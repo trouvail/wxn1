{
 "cells": [
  {
   "cell_type": "markdown",
   "metadata": {},
   "source": [
    "# 机器学习作业一\n",
    "- 姓名：周延霖\n",
    "- 学号：2013921\n",
    "- 专业：信息安全"
   ]
  },
  {
   "cell_type": "markdown",
   "metadata": {},
   "source": [
    "### 实验要求\n",
    "题目：基于KNN 的手写数字识别\n",
    "实验条件：给定semeion手写数字数据集，给定kNN分类算法\n",
    "实验要求：\n",
    "1. 基本要求：编程实现kNN算法；给出在不同k值（1，3，5）情况下，kNN算法对手写数字的识别精度（要求采用留一法）\n",
    "2. 中级要求：与weka机器学习包中的kNN分类结果进行对比\n",
    "3. 提高要求：将实验过程结果等图示展出\n",
    "\n",
    "**截止日期：10月7日**\n",
    "- 以.ipynb形式的文件提交，输出运行结果，并确保自己的代码能够正确运行\n",
    "- 发送到邮箱：2120220594@mail.nankai.edu.cn"
   ]
  },
  {
   "cell_type": "markdown",
   "metadata": {},
   "source": [
    "### 导入需要的包"
   ]
  },
  {
   "cell_type": "code",
   "execution_count": 1,
   "metadata": {},
   "outputs": [],
   "source": [
    "import numpy as np\n",
    "import operator\n",
    "from collections import Counter\n",
    "from sklearn.model_selection import train_test_split,cross_val_score\n",
    "from sklearn.model_selection import LeaveOneOut\n",
    "from sklearn.neighbors import KNeighborsClassifier\n",
    "from sklearn.model_selection import KFold\n",
    "# 为新导入的实现留一法的包，其实最后并没有用到\n",
    "from tqdm import tqdm\n",
    "import matplotlib.pyplot as plt\n",
    "import time"
   ]
  },
  {
   "cell_type": "markdown",
   "metadata": {},
   "source": [
    "### 导入数据集 semesion"
   ]
  },
  {
   "cell_type": "code",
   "execution_count": 2,
   "metadata": {},
   "outputs": [],
   "source": [
    "# 导入数据\n",
    "def Img2Mat(fileName):\n",
    "    f = open(fileName)\n",
    "    ss = f.readlines()\n",
    "    l = len(ss)\n",
    "    f.close()\n",
    "    returnMat = np.zeros((l,256))\n",
    "    returnClassVector = np.zeros((l,1))\n",
    "    for i in range(l):\n",
    "        s1 = ss[i].split()\n",
    "        for j in range(256):\n",
    "            returnMat[i][j] = np.float(s1[j])\n",
    "        clCount = 0\n",
    "        for j in range(256,266):\n",
    "            if s1[j] != '1':\n",
    "                clCount += 1\n",
    "            else:\n",
    "                break\n",
    "        returnClassVector[i] = clCount\n",
    "    return returnMat,returnClassVector"
   ]
  },
  {
   "cell_type": "code",
   "execution_count": 3,
   "metadata": {},
   "outputs": [
    {
     "name": "stderr",
     "output_type": "stream",
     "text": [
      "/var/folders/3g/0qh1978d1klcf1y3cxll683r0000gn/T/ipykernel_81871/2757158993.py:12: DeprecationWarning: `np.float` is a deprecated alias for the builtin `float`. To silence this warning, use `float` by itself. Doing this will not modify any behavior and is safe. If you specifically wanted the numpy scalar type, use `np.float64` here.\n",
      "Deprecated in NumPy 1.20; for more details and guidance: https://numpy.org/devdocs/release/1.20.0-notes.html#deprecations\n",
      "  returnMat[i][j] = np.float(s1[j])\n"
     ]
    },
    {
     "data": {
      "text/plain": [
       "((1593, 256), (1593, 1))"
      ]
     },
     "execution_count": 3,
     "metadata": {},
     "output_type": "execute_result"
    }
   ],
   "source": [
    "X,y = Img2Mat('semeion.data')\n",
    "np.shape(X), np.shape(y)"
   ]
  },
  {
   "cell_type": "markdown",
   "metadata": {},
   "source": [
    "### 基本要求\n",
    "编程实现kNN算法；给出不同k值（1，3，5）情况下，kNN算法对手写数字的识别精度（模板中采用的是普通方法分割训练集和测试集，作业中需要用留一法）"
   ]
  },
  {
   "cell_type": "code",
   "execution_count": 4,
   "metadata": {},
   "outputs": [],
   "source": [
    "# # KNN算法手动实现\n",
    "# def MyKnnClassifier(data_X, data_y, neighbors):\n",
    "#     # 生成数据集和测试集\n",
    "#     X_train, X_test, y_train, y_test = train_test_split(data_X, data_y, test_size=0.2)\n",
    "#     trainShape = X_train.shape[0]   # 获得训练集的大小\n",
    "#     testShape = X_test.shape[0]     # 获得测试集的大小\n",
    "#     testRes = []  # 存放测试结果\n",
    "#     acc = 0   # 计算准确率\n",
    "#     for i in range(testShape):  # 针对测试集中每一个样本进行预测\n",
    "#         # 差异矩阵 = 该样本与训练集中所有样本之差构成的矩阵\n",
    "#         testDiffMat = np.tile(X_test[i],(trainShape , 1)) - X_train\n",
    "#         sqTestDiffMat = testDiffMat ** 2    # 将差异矩阵平方\n",
    "#         # 方差距离为方差矩阵的整行求和，是一个一位列向量\n",
    "#         sqTestDiffDis = sqTestDiffMat.sum(axis=1)\n",
    "#         testDiffDis = sqTestDiffDis ** 0.5  # 开方生成标准差距离\n",
    "#         sortIndex = np.argsort(testDiffDis)   # 将标准差距离按照下标排序\n",
    "#         labelCount = []\n",
    "#         for j in range(neighbors):  # 考察k近邻属于哪些类\n",
    "#             labelCount.append(y_train[sortIndex[j]][0])\n",
    "#         classifyRes = Counter(labelCount)    # 把k近邻中最多的那个标签作为分类结果\n",
    "#         classifyRes = classifyRes.most_common(2)[0][0]\n",
    "#         testRes.append(classifyRes)\n",
    "#         if classifyRes == y_test[i]:  # 分类正确则将accRate+1\n",
    "#             acc += 1\n",
    "#     accRate = acc / X_test.shape[0]\n",
    "#     print('k={0}时，测试个数为{1}  正确个数为：{2}  准确率为：{3}'.format(neighbors,X_test.shape[0],acc,accRate))\n",
    "#     return accRate\n",
    "# 以上老师为所写的普通方法\n",
    "\n",
    "# KNN算法采用留一法实现\n",
    "def MyKnnClassifier(data_X, data_y, neighbors):\n",
    "    # kf = KFold(n_splits = 1)\n",
    "    # 总共进行data_X.shape[0]次\n",
    "    # 总正确个数\n",
    "    acc_sum = 0\n",
    "    # 总正确率\n",
    "    # accRate_sum = 0\n",
    "    # for train_index, test_index in kf.split(data_X):\n",
    "    for test_index in range(data_X.shape[0]):\n",
    "        # 下面生成训练集的下标\n",
    "        train_index = []\n",
    "        for i in range(data_X.shape[0]):\n",
    "            if i == test_index:\n",
    "                continue\n",
    "            else:\n",
    "                train_index.append(i)\n",
    "        # 生成数据集和测试集\n",
    "        X_train = data_X[train_index]\n",
    "        X_test = []\n",
    "        X_test.append(data_X[test_index])\n",
    "        # np.shape(X_test)\n",
    "        y_train = data_y[train_index]\n",
    "        y_test = []\n",
    "        y_test.append(data_y[test_index])\n",
    "        # np.shape(y_test)\n",
    "        # 获得训练集的大小\n",
    "        trainShape = X_train.shape[0]   \n",
    "        # 获得测试集的大小\n",
    "        # testShape = X_test.shape[0]  \n",
    "        testShape = 1\n",
    "        # print(testShape)\n",
    "        # print(trainShape)\n",
    "        testRes = []  # 存放测试结果\n",
    "        acc = 0   # 计算准确率\n",
    "        for i in range(testShape):  # 这里testShape = 1, 之所以用循环是因为不想改了\n",
    "            # 差异矩阵 = 该样本与训练集中所有样本之差构成的矩阵\n",
    "            testDiffMat = np.tile(X_test[i],(trainShape , 1)) - X_train\n",
    "            sqTestDiffMat = testDiffMat ** 2    # 将差异矩阵平方\n",
    "            # 方差距离为方差矩阵的整行求和，是一个一位列向量\n",
    "            sqTestDiffDis = sqTestDiffMat.sum(axis=1)\n",
    "            testDiffDis = sqTestDiffDis ** 0.5  # 开方生成标准差距离\n",
    "            sortIndex = np.argsort(testDiffDis)   # 将标准差距离按照下标排序\n",
    "            labelCount = []\n",
    "            for j in range(neighbors):  # 考察k近邻属于哪些类\n",
    "                labelCount.append(y_train[sortIndex[j]][0])\n",
    "            classifyRes = Counter(labelCount)    # 把k近邻中最多的那个标签作为分类结果\n",
    "            classifyRes = classifyRes.most_common(2)[0][0]\n",
    "            testRes.append(classifyRes)\n",
    "            if classifyRes == y_test[i]:  # 分类正确则将accRate+1\n",
    "                acc += 1\n",
    "                \n",
    "        acc_sum = acc_sum + acc\n",
    "        # accRateTemplate = acc / X_test.shape[0]\n",
    "        # accRate_sum = accRate_sum + accRateTemplate\n",
    "    \n",
    "    acc = acc_sum\n",
    "    accRate = acc_sum / data_X.shape[0]\n",
    "    print('k={0}时，测试个数为{1}  平均正确个数为：{2}  平均准确率为：{3}'.format(neighbors,data_X.shape[0],acc,accRate))\n",
    "    return accRate"
   ]
  },
  {
   "cell_type": "markdown",
   "metadata": {},
   "source": [
    "### 实验结果："
   ]
  },
  {
   "cell_type": "code",
   "execution_count": 5,
   "metadata": {},
   "outputs": [
    {
     "name": "stdout",
     "output_type": "stream",
     "text": [
      "k=1时，测试个数为1593  平均正确个数为：1459  平均准确率为：0.9158819836785939\n",
      "k=3时，测试个数为1593  平均正确个数为：1464  平均准确率为：0.9190207156308852\n",
      "k=5时，测试个数为1593  平均正确个数为：1458  平均准确率为：0.9152542372881356\n"
     ]
    },
    {
     "data": {
      "text/plain": [
       "0.9152542372881356"
      ]
     },
     "execution_count": 5,
     "metadata": {},
     "output_type": "execute_result"
    }
   ],
   "source": [
    "MyKnnClassifier(X, y, 1)\n",
    "MyKnnClassifier(X, y, 3)\n",
    "MyKnnClassifier(X, y, 5)"
   ]
  },
  {
   "cell_type": "markdown",
   "metadata": {},
   "source": [
    "### 中级要求\n",
    "模板中与sklearn机器学习包中的kNN分类结果进行对比（作业中需要与weka机器学习包中的kNN分类结果进行对比）"
   ]
  },
  {
   "cell_type": "code",
   "execution_count": 6,
   "metadata": {},
   "outputs": [],
   "source": [
    "# # kNN算法sklearn库实现\n",
    "# def KnnClassifier(data_X, data_y, neighbors, flag=0):\n",
    "#     X_train, X_test, y_train, y_test = train_test_split(data_X, data_y, test_size=0.2)\n",
    "#     knn = KNeighborsClassifier(n_neighbors=neighbors)\n",
    "#     knn.fit(X_train, y_train.ravel())\n",
    "#     print('k={0}时，scikit-learn训练手写体识别的准确率为：{1}'.format(neighbors,knn.score(X_test, y_test)))\n",
    "#     # 交叉验证\n",
    "#     if flag == 1:\n",
    "#         scores = cross_val_score(knn,data_X,data_y.ravel(),cv=10,scoring='accuracy')\n",
    "#         return scores.mean()"
   ]
  },
  {
   "cell_type": "markdown",
   "metadata": {},
   "source": [
    "由于本人导入weka包的时候频繁报错，所以转换成为直接使用现成的weka工具来进行本次实验，将semeion.data先修改后缀转换成为txt文件，再将txt文件通过如下代码转换成为csv文件："
   ]
  },
  {
   "cell_type": "code",
   "execution_count": 7,
   "metadata": {},
   "outputs": [],
   "source": [
    "# 将txt转换成csv\n",
    "import numpy as np\n",
    "import pandas as pd\n",
    " \n",
    "data_txt = np.loadtxt('semeion.txt')\n",
    "data_txtDF = pd.DataFrame(data_txt)\n",
    "data_txtDF.to_csv('semeion.csv',index=False)"
   ]
  },
  {
   "cell_type": "markdown",
   "metadata": {},
   "source": [
    "接下来对转换成功的csv文件的后10列进行处理，使其形成10个类别，变成semeion(1).csv文件。"
   ]
  },
  {
   "cell_type": "markdown",
   "metadata": {},
   "source": [
    "最后用weka工具将semeion(1).csv转换成为semeion.arff文件，然后就可以分析了，将文件导入的工具中，初始效果如下图所示：\n",
    "![预备工作](https://github.com/trouvail/wxn1/blob/main/lab1/preparation.png)"
   ]
  },
  {
   "cell_type": "code",
   "execution_count": 4,
   "metadata": {},
   "outputs": [
    {
     "data": {
      "text/html": [
       "<img src=\"https://github.com/trouvail/wxn1/blob/main/lab1/preparation.png\">\n"
      ],
      "text/plain": [
       "<IPython.core.display.HTML object>"
      ]
     },
     "metadata": {},
     "output_type": "display_data"
    }
   ],
   "source": [
    "%%html\n",
    "<img src=\"https://github.com/trouvail/wxn1/blob/main/lab1/preparation.png\">"
   ]
  },
  {
   "cell_type": "markdown",
   "metadata": {},
   "source": [
    "### 实验结果："
   ]
  },
  {
   "cell_type": "markdown",
   "metadata": {},
   "source": [
    "当 k = 1 时运行工具所得到的结果如下图所示：\n",
    "![k = 1](./knn_1.1.png)\n",
    "按类别划分的详细精度和混淆矩阵如下图所示：\n",
    "![k = 1](./knn_1.2.png)"
   ]
  },
  {
   "cell_type": "markdown",
   "metadata": {},
   "source": [
    "当 k = 3 时运行工具所得到的结果如下图所示：\n",
    "![k = 3](./knn_3.1.png)\n",
    "按类别划分的详细精度和混淆矩阵如下图所示：\n",
    "![k = 3](./knn_3.2.png)"
   ]
  },
  {
   "cell_type": "markdown",
   "metadata": {},
   "source": [
    "当 k = 5 时运行工具所得到的结果如下图所示：\n",
    "![k = 5](./knn_5.1.png)\n",
    "按类别划分的详细精度和混淆矩阵如下图所示：\n",
    "![k = 5](./knn_5.2.png)"
   ]
  },
  {
   "cell_type": "markdown",
   "metadata": {},
   "source": [
    "#### 可以看出不论当k为1，3，5时，采用留一法的准确率都要高于weka工具所测得的准确率"
   ]
  },
  {
   "cell_type": "markdown",
   "metadata": {
    "tags": []
   },
   "source": [
    "### 高级要求\n",
    "将实验过程结果等图示展出"
   ]
  },
  {
   "cell_type": "code",
   "execution_count": 8,
   "metadata": {},
   "outputs": [
    {
     "name": "stdout",
     "output_type": "stream",
     "text": [
      "k=1时，测试个数为1593  平均正确个数为：1459  平均准确率为：0.9158819836785939\n",
      "k=2时，测试个数为1593  平均正确个数为：1459  平均准确率为：0.9158819836785939\n",
      "k=3时，测试个数为1593  平均正确个数为：1464  平均准确率为：0.9190207156308852\n",
      "k=4时，测试个数为1593  平均正确个数为：1465  平均准确率为：0.9196484620213434\n",
      "k=5时，测试个数为1593  平均正确个数为：1458  平均准确率为：0.9152542372881356\n",
      "k=6时，测试个数为1593  平均正确个数为：1464  平均准确率为：0.9190207156308852\n",
      "k=7时，测试个数为1593  平均正确个数为：1469  平均准确率为：0.9221594475831764\n",
      "k=8时，测试个数为1593  平均正确个数为：1472  平均准确率为：0.9240426867545511\n",
      "k=9时，测试个数为1593  平均正确个数为：1471  平均准确率为：0.9234149403640929\n",
      "k=10时，测试个数为1593  平均正确个数为：1465  平均准确率为：0.9196484620213434\n",
      "k=11时，测试个数为1593  平均正确个数为：1456  平均准确率为：0.9139987445072191\n",
      "k=12时，测试个数为1593  平均正确个数为：1460  平均准确率为：0.9165097300690521\n",
      "k=13时，测试个数为1593  平均正确个数为：1461  平均准确率为：0.9171374764595104\n",
      "k=14时，测试个数为1593  平均正确个数为：1453  平均准确率为：0.9121155053358443\n",
      "k=15时，测试个数为1593  平均正确个数为：1446  平均准确率为：0.9077212806026366\n",
      "k=16时，测试个数为1593  平均正确个数为：1446  平均准确率为：0.9077212806026366\n",
      "k=17时，测试个数为1593  平均正确个数为：1442  平均准确率为：0.9052102950408035\n",
      "k=18时，测试个数为1593  平均正确个数为：1438  平均准确率为：0.9026993094789705\n",
      "k=19时，测试个数为1593  平均正确个数为：1436  平均准确率为：0.901443816698054\n",
      "k=20时，测试个数为1593  平均正确个数为：1435  平均准确率为：0.9008160703075957\n",
      "k=21时，测试个数为1593  平均正确个数为：1436  平均准确率为：0.901443816698054\n",
      "k=22时，测试个数为1593  平均正确个数为：1440  平均准确率为：0.903954802259887\n",
      "k=23时，测试个数为1593  平均正确个数为：1435  平均准确率为：0.9008160703075957\n",
      "k=24时，测试个数为1593  平均正确个数为：1427  平均准确率为：0.8957940991839297\n",
      "k=25时，测试个数为1593  平均正确个数为：1426  平均准确率为：0.8951663527934715\n",
      "k=26时，测试个数为1593  平均正确个数为：1424  平均准确率为：0.8939108600125549\n",
      "k=27时，测试个数为1593  平均正确个数为：1424  平均准确率为：0.8939108600125549\n",
      "k=28时，测试个数为1593  平均正确个数为：1417  平均准确率为：0.8895166352793471\n",
      "k=29时，测试个数为1593  平均正确个数为：1423  平均准确率为：0.8932831136220967\n"
     ]
    }
   ],
   "source": [
    "scores1 = []\n",
    "# scores2 = []\n",
    "\n",
    "# 由于weka包的缘故，所以weka的图已经在上文中展示，这里只展示手写的留一法的knn部分\n",
    "\n",
    "for k in range(1,30):\n",
    "    score1 = MyKnnClassifier(X, y, k)\n",
    "    scores1.append(score1)\n",
    "    \n",
    "# for k in range(1,30):\n",
    "#     score2 = KnnClassifier(X, y, k, 1)\n",
    "#     scores2.append(score2)"
   ]
  },
  {
   "cell_type": "markdown",
   "metadata": {},
   "source": [
    "#### 将手写体识别的留一法的上述所得到的结果用图片进行展示"
   ]
  },
  {
   "cell_type": "code",
   "execution_count": 9,
   "metadata": {},
   "outputs": [
    {
     "data": {
      "image/png": "[encoded data removed]",
      "text/plain": [
       "<Figure size 432x288 with 1 Axes>"
      ]
     },
     "metadata": {
      "needs_background": "light"
     },
     "output_type": "display_data"
    }
   ],
   "source": [
    "    plt.xlabel('k value:',fontsize=18)\n",
    "    plt.ylabel('accuracy',fontsize=18)\n",
    "    x_major_locator = plt.MultipleLocator(1)\n",
    "    ax = plt.gca()\n",
    "    ax.xaxis.set_major_locator(x_major_locator)\n",
    "    plt.xlim(0, 30)\n",
    "    plt.ylim(0.75, 1)\n",
    "    # 普通kNN分类精度\n",
    "    plt.plot(range(1,30),scores1,'r')\n",
    "    # 这里只展示手写留一法的knn，原因已在上文中说明\n",
    "    # plt.plot(range(1,30),scores2,'b')\n",
    "    plt.show()"
   ]
  },
  {
   "cell_type": "markdown",
   "metadata": {},
   "source": [
    "本次实验也到此结束🎉"
   ]
  },
  {
   "cell_type": "markdown",
   "metadata": {},
   "source": [
    "## 总结与展望"
   ]
  },
  {
   "cell_type": "markdown",
   "metadata": {},
   "source": [
    "### 总结\n",
    "- 本次是机器学习的第一次实验，在做实验的过程中感受到了一些算法的强大，也通过手写留一法对交叉验证等课堂上所讲述的概念更加的熟悉\n",
    "- 然后再通过自己对weka工具的探索，虽然最后也没有找到和实现用java代码写，但是对之前上一学年所学习的java课也算有了一定的回顾\n",
    "- 最后通过使用weka工具成功对knn中k为1，3，5进行了实验，中间在文件格式转换方面也卡了一定的时间，但最后通过助教学长以及同学的帮助也顺利的解决了问题"
   ]
  },
  {
   "cell_type": "markdown",
   "metadata": {},
   "source": [
    "### 展望\n",
    "通过第一次实验，发现自己对机器学习有了更近一步的认识，希望自己能在本学期的课程中学到更多，也希望自己未来能有更好的发展✌️"
   ]
  }
 ],
 "metadata": {
  "kernelspec": {
   "display_name": "Python 3 (ipykernel)",
   "language": "python",
   "name": "python3"
  },
  "language_info": {
   "codemirror_mode": {
    "name": "ipython",
    "version": 3
   },
   "file_extension": ".py",
   "mimetype": "text/x-python",
   "name": "python",
   "nbconvert_exporter": "python",
   "pygments_lexer": "ipython3",
   "version": "3.8.13"
  }
 },
 "nbformat": 4,
 "nbformat_minor": 4
}
