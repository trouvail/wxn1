{
 "cells": [
  {
   "cell_type": "markdown",
   "metadata": {},
   "source": [
    "# 机器学习作业四\n",
    "- 姓名：周延霖\n",
    "- 学号：2013921\n",
    "- 专业：信息安全"
   ]
  },
  {
   "cell_type": "markdown",
   "metadata": {},
   "source": [
    "## 实验要求\n",
    "\n",
    "题目：朴素贝叶斯分类器\n",
    "\n",
    "> 基本要求：\n",
    "\n",
    "\n",
    "1. 采用分层采样的方式将数据集划分为训练集和测试集。\n",
    "2. 给定编写一个朴素贝叶斯分类器，对测试集进行预测，计算分类准确率。\n",
    "\n",
    "\n",
    "  \n",
    "> 中级要求\n",
    "\n",
    "\n",
    "使用测试集评估模型，得到混淆矩阵，精度，召回率，F值。\n",
    "\n",
    "\n",
    "> 高级要求\n",
    "\n",
    "在中级要求的基础上画出三类数据的ROC曲线，并求出AUC值。\n",
    "\n",
    "\n",
    "\n",
    "**截止日期：11月18日**\n",
    "\n",
    "- 以.ipynb形式的文件提交，输出运行结果，并确保自己的代码能够正确运行\n",
    "- 发送到邮箱：2120220594@mail.nankai.edu.cn"
   ]
  },
  {
   "cell_type": "markdown",
   "metadata": {},
   "source": [
    "## 基本要求"
   ]
  },
  {
   "cell_type": "code",
   "execution_count": 1,
   "metadata": {},
   "outputs": [],
   "source": [
    "import math\n",
    "import numpy as np  \n",
    "import pandas as pd\n",
    "import random\n",
    "import csv\n",
    "import operator\n",
    "import matplotlib.pyplot as plt"
   ]
  },
  {
   "cell_type": "code",
   "execution_count": 2,
   "metadata": {},
   "outputs": [],
   "source": [
    "f = open('wine.data','r')\n",
    "types = [[],[],[]]                      #按类分的所有数据\n",
    "test_data = [[],[],[]]\n",
    "train_data = [[],[],[]]\n",
    "data_num = 0                            #数据总数\n",
    "test_len = []                           #测试集里每一类的个数\n",
    "means = [[],[],[]]                      #每一类的均值\n",
    "std = [[],[],[]]                        #每一类的标准差"
   ]
  },
  {
   "cell_type": "code",
   "execution_count": 3,
   "metadata": {},
   "outputs": [],
   "source": [
    "myline = '1'\n",
    "while myline:\n",
    "    myline = f.readline().split(',')\n",
    "    if len(myline) != 14:\n",
    "        break\n",
    "    for t in range(len(myline)):\n",
    "        if t == 0:\n",
    "            myline[t] = int(myline[t])\n",
    "        else:\n",
    "            myline[t] = float(myline[t])\n",
    "    temp = myline.pop(0)\n",
    "    types[temp - 1].append(myline)\n",
    "test_len = [round(len(types[i]) / 5) for i in range(3)] # 按照4:1的方式划分测试集和训练集，之后可以进行更改\n",
    "data_num = sum([len(types[i]) for i in range(3)])"
   ]
  },
  {
   "cell_type": "code",
   "execution_count": 4,
   "metadata": {},
   "outputs": [
    {
     "name": "stdout",
     "output_type": "stream",
     "text": [
      "[13.2, 1.78, 2.14, 11.2, 100.0, 2.65, 2.76, 0.26, 1.28, 4.38, 1.05, 3.4, 1050.0]\n"
     ]
    }
   ],
   "source": [
    "print(types[0][1])"
   ]
  },
  {
   "cell_type": "code",
   "execution_count": 5,
   "metadata": {},
   "outputs": [
    {
     "name": "stdout",
     "output_type": "stream",
     "text": [
      "[12, 14, 10]\n",
      "178\n"
     ]
    }
   ],
   "source": [
    "print(test_len)\n",
    "print(data_num)"
   ]
  },
  {
   "cell_type": "markdown",
   "metadata": {},
   "source": [
    "### 分层采样"
   ]
  },
  {
   "cell_type": "code",
   "execution_count": 6,
   "metadata": {},
   "outputs": [],
   "source": [
    "test_data[0] = random.sample(types[0], test_len[0])\n",
    "test_data[1] = random.sample(types[1], test_len[1])\n",
    "test_data[2] = random.sample(types[2], test_len[2])\n",
    "train_data[0] = [i for i in types[0] if i not in test_data[0]]\n",
    "train_data[1] = [i for i in types[1] if i not in test_data[1]]\n",
    "train_data[2] = [i for i in types[2] if i not in test_data[2]]"
   ]
  },
  {
   "cell_type": "code",
   "execution_count": 7,
   "metadata": {},
   "outputs": [],
   "source": [
    "# print(test_data[0])\n",
    "# print(train_data[1])"
   ]
  },
  {
   "cell_type": "markdown",
   "metadata": {},
   "source": [
    "### 贝叶斯预测"
   ]
  },
  {
   "cell_type": "code",
   "execution_count": 8,
   "metadata": {},
   "outputs": [
    {
     "name": "stdout",
     "output_type": "stream",
     "text": [
      "[1.37582979e+01 2.00510638e+00 2.42936170e+00 1.67723404e+01\n",
      " 1.06553191e+02 2.86361702e+00 3.00702128e+00 2.83829787e-01\n",
      " 1.92744681e+00 5.59255319e+00 1.05234043e+00 3.14851064e+00\n",
      " 1.11217021e+03]\n"
     ]
    }
   ],
   "source": [
    "print(np.mean(train_data[0], axis = 0))"
   ]
  },
  {
   "cell_type": "code",
   "execution_count": 9,
   "metadata": {},
   "outputs": [
    {
     "name": "stdout",
     "output_type": "stream",
     "text": [
      "[4.81983134e-01 6.91538132e-01 2.20264872e-01 2.63436392e+00\n",
      " 9.86894659e+00 3.42477988e-01 4.10261540e-01 6.64783821e-02\n",
      " 4.04124839e-01 1.26779498e+00 1.16476877e-01 3.60413349e-01\n",
      " 2.23107771e+02]\n"
     ]
    }
   ],
   "source": [
    "print(np.std(train_data[0], axis = 0))"
   ]
  },
  {
   "cell_type": "code",
   "execution_count": 10,
   "metadata": {},
   "outputs": [],
   "source": [
    "means[0] = np.mean(train_data[0], axis = 0)\n",
    "std[0] = np.std(train_data[0], axis = 0)\n",
    "\n",
    "means[1] = np.mean(train_data[1], axis = 0)\n",
    "std[1] = np.std(train_data[1], axis = 0)\n",
    "\n",
    "means[2] = np.mean(train_data[2], axis = 0)\n",
    "std[2] = np.std(train_data[2], axis = 0)"
   ]
  },
  {
   "cell_type": "code",
   "execution_count": 11,
   "metadata": {},
   "outputs": [
    {
     "name": "stdout",
     "output_type": "stream",
     "text": [
      "[1.37582979e+01 2.00510638e+00 2.42936170e+00 1.67723404e+01\n",
      " 1.06553191e+02 2.86361702e+00 3.00702128e+00 2.83829787e-01\n",
      " 1.92744681e+00 5.59255319e+00 1.05234043e+00 3.14851064e+00\n",
      " 1.11217021e+03]\n"
     ]
    }
   ],
   "source": [
    "print(means[0])"
   ]
  },
  {
   "cell_type": "code",
   "execution_count": 12,
   "metadata": {},
   "outputs": [
    {
     "name": "stdout",
     "output_type": "stream",
     "text": [
      "10\n"
     ]
    }
   ],
   "source": [
    "print(len(test_data[2]))"
   ]
  },
  {
   "cell_type": "code",
   "execution_count": 13,
   "metadata": {},
   "outputs": [
    {
     "name": "stdout",
     "output_type": "stream",
     "text": [
      "142\n"
     ]
    }
   ],
   "source": [
    "train_len = len(train_data[0]) + len(train_data[1]) + len(train_data[2])\n",
    "print(train_len)"
   ]
  },
  {
   "cell_type": "code",
   "execution_count": 14,
   "metadata": {},
   "outputs": [],
   "source": [
    "# 方便后面计算相应的评价指标\n",
    "true_type = []\n",
    "pred_type = []"
   ]
  },
  {
   "cell_type": "code",
   "execution_count": 15,
   "metadata": {},
   "outputs": [],
   "source": [
    "def bayes_classificate():\n",
    "    # 首先，分别计算训练集上三个类的均值和标准差\n",
    "    # 已经在上面计算完成\n",
    "    wrong_num = 0\n",
    "    pre_roc = []\n",
    "    w = 0\n",
    "    for i in range(3):\n",
    "        for t in test_data[i]:                  # 两层循环：从每一类取每一个测试样本\n",
    "            my_type = []\n",
    "            for j in range(3):\n",
    "                # 由于数据集中所有的属性都是连续值，连续值的似然估计可以按照高斯分布来计算：\n",
    "                # temp = ...\n",
    "                # 这里计算使用实验课上讲的取log\n",
    "                fir = 0\n",
    "                l = len(t)\n",
    "                for w in range(0, l):\n",
    "                    mid = 0\n",
    "                    mid += np.log(1 / (math.sqrt(2 * math.pi) * std[j][w]))\n",
    "                    mid -= 0.5 * (t[w] - means[j][w]) * (t[w] - means[j][w]) / (std[j][w] * std[j][w])\n",
    "                    fir += mid\n",
    "#                 fir = 0\n",
    "#                 for w in range(0, len(train_data[j])):\n",
    "#                     mid = 0\n",
    "#                     mid += np.log(1 / (math.sqrt(2 * math.pi) * std[j]))\n",
    "#                     mid += 0.5 * (train_data[j][w] - means[j]) * (train_data[j][w] - means[j]) / (std[j] * std[j])\n",
    "#                     fir += mid                            # 分析错误的计算公式  \n",
    "                sec = math.log(len(train_data[j]) / train_len)\n",
    "                temp = fir + sec\n",
    "                \n",
    "                my_type.append(temp)                        # 这里将所有score保存\n",
    "                \n",
    "            print(my_type)\n",
    "            pre_type = my_type.index(max(my_type))          # 取分值最大的为预测类别\n",
    "            \n",
    "            pre_roc.append(my_type[pre_type])\n",
    "            true_type.append(i)\n",
    "            pred_type.append(pre_type)\n",
    "            if pre_type != i:                               # 统计错误数\n",
    "                wrong_num += 1\n",
    "    return wrong_num, pre_roc"
   ]
  },
  {
   "cell_type": "code",
   "execution_count": 16,
   "metadata": {},
   "outputs": [
    {
     "name": "stdout",
     "output_type": "stream",
     "text": [
      "[-13.898052065483895, -40.836764586473336, -91.68388415449665]\n",
      "[-15.926961431720994, -38.74033839374499, -84.3923849404572]\n",
      "[-17.556131794011726, -22.165925590183473, -76.44975982864736]\n",
      "[-16.611251396887788, -35.33333721482362, -69.25434188841778]\n",
      "[-23.683637357298394, -38.830598037728336, -84.16692655451344]\n",
      "[-13.023617355242088, -37.850973071691584, -86.98428375636995]\n",
      "[-15.159669730936143, -34.97958770321354, -91.12180866362235]\n",
      "[-20.17259500755331, -25.430219064521946, -58.176400982916135]\n",
      "[-19.23903983684671, -22.134450413465267, -57.54072273303219]\n",
      "[-15.173260939684639, -38.420099609458234, -96.75909692723728]\n",
      "[-15.952840418497608, -27.87388186615153, -84.57136802490831]\n",
      "[-14.819368836599656, -53.69101972349381, -109.01624609332303]\n",
      "[-43.02105355764631, -17.572610903977015, -44.47290752863395]\n",
      "[-35.771369029334664, -21.024249033511218, -52.21722475711728]\n",
      "[-25.433443978992027, -23.778139962144483, -96.15699645066384]\n",
      "[-61.36979488889938, -46.789616239274324, -176.1620527503797]\n",
      "[-48.17145028221194, -19.21460722732796, -49.555111723661895]\n",
      "[-33.07690658612115, -16.963624257904787, -46.30174266490375]\n",
      "[-42.494545103552284, -17.14638819440124, -49.230411277612944]\n",
      "[-51.48539830520715, -17.625077286951647, -32.0552606572502]\n",
      "[-46.14894189346018, -18.18910916512301, -46.59309690524153]\n",
      "[-43.57606746159228, -31.64910726421992, -77.30187585727678]\n",
      "[-40.11288022688701, -18.6433476995529, -74.50150862108059]\n",
      "[-49.09215516552553, -19.320481060561523, -42.732779093137204]\n",
      "[-43.48438659298713, -17.132668470758595, -39.154103235076334]\n",
      "[-47.82162816560036, -18.78116984223429, -29.559198694850902]\n",
      "[-54.45830289158831, -24.50613124124615, -18.426452394938984]\n",
      "[-74.50928258374088, -48.231769323104345, -15.29716107410261]\n",
      "[-61.37086405447318, -58.800860436997, -14.605053149963473]\n",
      "[-56.49200908851165, -27.238685655341662, -17.842946273732622]\n",
      "[-70.96757854717255, -39.59843064312772, -16.979476843835425]\n",
      "[-66.07666416112707, -52.72846704640566, -15.253148811582149]\n",
      "[-75.55658826648954, -43.17172222325566, -20.123044737634775]\n",
      "[-84.88418513727392, -31.321032890021275, -18.97994072271715]\n",
      "[-56.38590215587039, -27.711879272520026, -16.483542985014097]\n",
      "[-80.35679305716558, -58.57863765046924, -17.075751736978983]\n",
      "0\n",
      "[-13.898052065483895, -15.926961431720994, -17.556131794011726, -16.611251396887788, -23.683637357298394, -13.023617355242088, -15.159669730936143, -20.17259500755331, -19.23903983684671, -15.173260939684639, -15.952840418497608, -14.819368836599656, -17.572610903977015, -21.024249033511218, -23.778139962144483, -46.789616239274324, -19.21460722732796, -16.963624257904787, -17.14638819440124, -17.625077286951647, -18.18910916512301, -31.64910726421992, -18.6433476995529, -19.320481060561523, -17.132668470758595, -18.78116984223429, -18.426452394938984, -15.29716107410261, -14.605053149963473, -17.842946273732622, -16.979476843835425, -15.253148811582149, -20.123044737634775, -18.97994072271715, -16.483542985014097, -17.075751736978983]\n",
      "[[-13.898052065483895, 0, 0, 0], [-15.926961431720994, 1, 0, 0], [-17.556131794011726, 2, 0, 0], [-16.611251396887788, 3, 0, 0], [-23.683637357298394, 4, 0, 0], [-13.023617355242088, 5, 0, 0], [-15.159669730936143, 6, 0, 0], [-20.17259500755331, 7, 0, 0], [-19.23903983684671, 8, 0, 0], [-15.173260939684639, 9, 0, 0], [-15.952840418497608, 10, 0, 0], [-14.819368836599656, 11, 0, 0], [-17.572610903977015, 12, 1, 1], [-21.024249033511218, 13, 1, 1], [-23.778139962144483, 14, 1, 1], [-46.789616239274324, 15, 1, 1], [-19.21460722732796, 16, 1, 1], [-16.963624257904787, 17, 1, 1], [-17.14638819440124, 18, 1, 1], [-17.625077286951647, 19, 1, 1], [-18.18910916512301, 20, 1, 1], [-31.64910726421992, 21, 1, 1], [-18.6433476995529, 22, 1, 1], [-19.320481060561523, 23, 1, 1], [-17.132668470758595, 24, 1, 1], [-18.78116984223429, 25, 1, 1], [-18.426452394938984, 26, 2, 2], [-15.29716107410261, 27, 2, 2], [-14.605053149963473, 28, 2, 2], [-17.842946273732622, 29, 2, 2], [-16.979476843835425, 30, 2, 2], [-15.253148811582149, 31, 2, 2], [-20.123044737634775, 32, 2, 2], [-18.97994072271715, 33, 2, 2], [-16.483542985014097, 34, 2, 2], [-17.075751736978983, 35, 2, 2]]\n"
     ]
    }
   ],
   "source": [
    "wrong_num, pre_roc = bayes_classificate()\n",
    "last_roc = []\n",
    "for i in range(0, len(pre_roc)):\n",
    "    mid = []\n",
    "    mid.append(pre_roc[i])\n",
    "    mid.append(i)\n",
    "    mid.append(true_type[i])\n",
    "    mid.append(pred_type[i])\n",
    "    last_roc.append(mid)\n",
    "print(wrong_num)\n",
    "print(pre_roc)\n",
    "print(last_roc)"
   ]
  },
  {
   "cell_type": "markdown",
   "metadata": {},
   "source": [
    "> 可以看出没有错误数据，所以分类准确率为100%"
   ]
  },
  {
   "cell_type": "markdown",
   "metadata": {},
   "source": [
    "## 中级要求"
   ]
  },
  {
   "cell_type": "code",
   "execution_count": 17,
   "metadata": {},
   "outputs": [
    {
     "name": "stdout",
     "output_type": "stream",
     "text": [
      "[0, 0, 0, 0, 0, 0, 0, 0, 0, 0, 0, 0, 1, 1, 1, 1, 1, 1, 1, 1, 1, 1, 1, 1, 1, 1, 2, 2, 2, 2, 2, 2, 2, 2, 2, 2]\n",
      "[0, 0, 0, 0, 0, 0, 0, 0, 0, 0, 0, 0, 1, 1, 1, 1, 1, 1, 1, 1, 1, 1, 1, 1, 1, 1, 2, 2, 2, 2, 2, 2, 2, 2, 2, 2]\n"
     ]
    }
   ],
   "source": [
    "print(true_type)\n",
    "print(pred_type)"
   ]
  },
  {
   "cell_type": "markdown",
   "metadata": {},
   "source": [
    "### 混淆矩阵"
   ]
  },
  {
   "cell_type": "code",
   "execution_count": 18,
   "metadata": {},
   "outputs": [],
   "source": [
    "def confuse_maxtria(predict, fact):\n",
    "    confuse = [[0, 0, 0], [0, 0, 0], [0, 0, 0]]\n",
    "    for i in range(len(predict)):\n",
    "        confuse[fact[i] - 1][predict[i] - 1] += 1\n",
    "    return confuse"
   ]
  },
  {
   "cell_type": "code",
   "execution_count": 19,
   "metadata": {},
   "outputs": [
    {
     "name": "stdout",
     "output_type": "stream",
     "text": [
      "混淆矩阵是:\n",
      " [[14  0  0]\n",
      " [ 0 10  0]\n",
      " [ 0  0 12]]\n"
     ]
    }
   ],
   "source": [
    "print(\"混淆矩阵是:\\n\", np.array(confuse_maxtria(pred_type, true_type)))\n",
    "# 行是实际值，列是预测值"
   ]
  },
  {
   "cell_type": "markdown",
   "metadata": {},
   "source": [
    "### 精度，召回率，F值"
   ]
  },
  {
   "cell_type": "code",
   "execution_count": 20,
   "metadata": {},
   "outputs": [],
   "source": [
    "def get_feature(confuse_maxtria):\n",
    "    for index in range(len(confuse_maxtria)):\n",
    "        truth = confuse_maxtria[index][index]\n",
    "        total = 0\n",
    "        total2 = 0\n",
    "        for i in range(len(confuse_maxtria)):\n",
    "            total += confuse_maxtria[i][index]\n",
    "        for i in range(len(confuse_maxtria)):\n",
    "            total2 += confuse_maxtria[index][i]\n",
    "        precision = truth / total\n",
    "        recall = truth / total2\n",
    "        f_rate = 2 * precision * recall / (precision + recall)\n",
    "        print(\"类别\", index + 1, \"的精度为\", precision, \"，召回率为\", recall, \"，F值为\", f_rate)"
   ]
  },
  {
   "cell_type": "code",
   "execution_count": 21,
   "metadata": {},
   "outputs": [
    {
     "name": "stdout",
     "output_type": "stream",
     "text": [
      "类别 1 的精度为 1.0 ，召回率为 1.0 ，F值为 1.0\n",
      "类别 2 的精度为 1.0 ，召回率为 1.0 ，F值为 1.0\n",
      "类别 3 的精度为 1.0 ，召回率为 1.0 ，F值为 1.0\n"
     ]
    }
   ],
   "source": [
    "get_feature(confuse_maxtria(pred_type, true_type))"
   ]
  },
  {
   "cell_type": "markdown",
   "metadata": {},
   "source": [
    "## 高级要求"
   ]
  },
  {
   "cell_type": "markdown",
   "metadata": {},
   "source": [
    "### ROC曲线"
   ]
  },
  {
   "cell_type": "code",
   "execution_count": 22,
   "metadata": {},
   "outputs": [],
   "source": [
    "def roc_sort(roc):\n",
    "    for i in range(1, len(roc)):\n",
    "        for j in range(0, len(roc) - i):\n",
    "            if roc[j][0] < roc[j + 1][0]:   #升序用>，降序用<\n",
    "                roc[j], roc[j + 1] = roc[j + 1], roc[j]\n",
    "    return roc"
   ]
  },
  {
   "cell_type": "code",
   "execution_count": 23,
   "metadata": {},
   "outputs": [
    {
     "name": "stdout",
     "output_type": "stream",
     "text": [
      "[[-13.023617355242088, 5, 0, 0], [-13.898052065483895, 0, 0, 0], [-14.819368836599656, 11, 0, 0], [-15.159669730936143, 6, 0, 0], [-15.173260939684639, 9, 0, 0], [-15.926961431720994, 1, 0, 0], [-15.952840418497608, 10, 0, 0], [-16.611251396887788, 3, 0, 0], [-17.556131794011726, 2, 0, 0], [-19.23903983684671, 8, 0, 0], [-20.17259500755331, 7, 0, 0], [-23.683637357298394, 4, 0, 0]]\n",
      "12\n",
      "[[-16.963624257904787, 17, 1, 1], [-17.132668470758595, 24, 1, 1], [-17.14638819440124, 18, 1, 1], [-17.572610903977015, 12, 1, 1], [-17.625077286951647, 19, 1, 1], [-18.18910916512301, 20, 1, 1], [-18.6433476995529, 22, 1, 1], [-18.78116984223429, 25, 1, 1], [-19.21460722732796, 16, 1, 1], [-19.320481060561523, 23, 1, 1], [-21.024249033511218, 13, 1, 1], [-23.778139962144483, 14, 1, 1], [-31.64910726421992, 21, 1, 1], [-46.789616239274324, 15, 1, 1]]\n",
      "14\n",
      "[[-14.605053149963473, 28, 2, 2], [-15.253148811582149, 31, 2, 2], [-15.29716107410261, 27, 2, 2], [-16.483542985014097, 34, 2, 2], [-16.979476843835425, 30, 2, 2], [-17.075751736978983, 35, 2, 2], [-17.842946273732622, 29, 2, 2], [-18.426452394938984, 26, 2, 2], [-18.97994072271715, 33, 2, 2], [-20.123044737634775, 32, 2, 2]]\n",
      "10\n"
     ]
    }
   ],
   "source": [
    "# 为按照`temp`的值排序做好准备\n",
    "# 四个值的意义\n",
    "# pre_roc[i]：预测的temp值，为了排序\n",
    "# i：序列号\n",
    "# true_type[i]：其真实的类型\n",
    "# pred_type[i]：其预测的类型\n",
    "roc1 = last_roc[0:test_len[0]]\n",
    "roc2 = last_roc[test_len[0]:(test_len[0] + test_len[1])]\n",
    "roc3 = last_roc[(test_len[0] + test_len[1]):(test_len[0] + test_len[1] + test_len[2])]\n",
    "# 按第一列谁最大排在第一位\n",
    "roc1 = roc_sort(roc1)\n",
    "roc2 = roc_sort(roc2)\n",
    "roc3 = roc_sort(roc3)\n",
    "\n",
    "print(roc1)\n",
    "print(len(roc1))\n",
    "\n",
    "print(roc2)\n",
    "print(len(roc2))\n",
    "\n",
    "print(roc3)\n",
    "print(len(roc3))"
   ]
  },
  {
   "cell_type": "code",
   "execution_count": 24,
   "metadata": {},
   "outputs": [
    {
     "name": "stdout",
     "output_type": "stream",
     "text": [
      "类别 1 的TPR为 1.0 ，FPR为 0.0\n",
      "类别 2 的TPR为 1.0 ，FPR为 0.0\n",
      "类别 3 的TPR为 1.0 ，FPR为 0.0\n"
     ]
    }
   ],
   "source": [
    "# 计算命中率TPR和假报率FPR\n",
    "cm = confuse_maxtria(pred_type, true_type)\n",
    "TPR = []\n",
    "FPR = []\n",
    "for index in range(len(cm)):   \n",
    "    truth = cm[index][index]\n",
    "    total_fir = 0\n",
    "    total_sec_mot = np.sum(cm)\n",
    "    total_sec_son = 0\n",
    "    for i in range(len(cm)):\n",
    "        total_fir += cm[index][i]\n",
    "    for i in range(len(cm)):\n",
    "        total_sec_son += cm[i][index]\n",
    "    TPR.append(truth / total_fir)\n",
    "    FPR.append((total_sec_son - truth) / (total_sec_mot - total_fir - total_sec_son + truth))\n",
    "    print(\"类别\", index + 1, \"的TPR为\", TPR[index], \"，FPR为\", FPR[index])"
   ]
  },
  {
   "cell_type": "code",
   "execution_count": 25,
   "metadata": {},
   "outputs": [],
   "source": [
    "# TPRs, FPRs = [], []\n",
    "# right = 0\n",
    "# wrong = 0\n",
    "# lenSum = len(pred_type)\n",
    "# # for i in range(0, test_len[0]):\n",
    "# TPRs.append(0)\n",
    "# FPRs.append(0)\n",
    "# for i in range(0, lenSum):\n",
    "#     if pred_type[i] == true_type[i]:\n",
    "#         right += 1\n",
    "#     else:\n",
    "#         wrong += 1\n",
    "#     TPRs.append(right / lenSum)\n",
    "#     FPRs.append(wrong / lenSum)\n",
    "# TPRs.append(1)\n",
    "# FPRs.append(1)\n",
    "    \n",
    "# TPRs.append(right / test_len[0])\n",
    "# TPRs.append(1 / test_len[0])\n",
    "# FPRs.append(wrong / test_len[0])\n",
    "# FPRs.append(1 / test_len[0])"
   ]
  },
  {
   "cell_type": "markdown",
   "metadata": {},
   "source": [
    "> 分别计算三类的曲线数组"
   ]
  },
  {
   "cell_type": "code",
   "execution_count": 26,
   "metadata": {},
   "outputs": [],
   "source": [
    "TPRs0, FPRs0 = [], []\n",
    "right0 = 0\n",
    "wrong0 = 0\n",
    "lenSum0 = test_len[0]\n",
    "TPRs0.append(0)\n",
    "FPRs0.append(0)\n",
    "for i in range(0, lenSum0):\n",
    "    if roc1[i][2] == roc1[i][3]:\n",
    "        right0 += 1\n",
    "    else:\n",
    "        wrong0 += 1\n",
    "    TPRs0.append(right0 / lenSum0)\n",
    "    FPRs0.append(wrong0 / lenSum0)\n",
    "TPRs0.append(1)\n",
    "FPRs0.append(1)"
   ]
  },
  {
   "cell_type": "code",
   "execution_count": 27,
   "metadata": {},
   "outputs": [],
   "source": [
    "TPRs1, FPRs1 = [], []\n",
    "right1 = 0\n",
    "wrong1 = 0\n",
    "lenSum1 = test_len[1]\n",
    "TPRs1.append(0)\n",
    "FPRs1.append(0)\n",
    "for i in range(0, lenSum1):\n",
    "    if roc2[i][2] == roc2[i][3]:\n",
    "        right1 += 1\n",
    "    else:\n",
    "        wrong1 += 1\n",
    "    TPRs1.append(right1 / lenSum1)\n",
    "    FPRs1.append(wrong1 / lenSum1)\n",
    "TPRs1.append(1)\n",
    "FPRs1.append(1)"
   ]
  },
  {
   "cell_type": "code",
   "execution_count": 28,
   "metadata": {},
   "outputs": [],
   "source": [
    "TPRs2, FPRs2 = [], []\n",
    "right2 = 0\n",
    "wrong2 = 0\n",
    "lenSum2 = test_len[2]\n",
    "TPRs2.append(0)\n",
    "FPRs2.append(0)\n",
    "for i in range(0, lenSum2):\n",
    "    if roc3[i][2] == roc3[i][3]:\n",
    "        right2 += 1\n",
    "    else:\n",
    "        wrong2 += 1\n",
    "    TPRs2.append(right2 / lenSum1)\n",
    "    FPRs2.append(wrong2 / lenSum1)\n",
    "TPRs2.append(1)\n",
    "FPRs2.append(1)"
   ]
  },
  {
   "cell_type": "code",
   "execution_count": 29,
   "metadata": {},
   "outputs": [
    {
     "data": {
      "image/png": "[encoded data removed]",
      "text/plain": [
       "<Figure size 432x288 with 1 Axes>"
      ]
     },
     "metadata": {
      "needs_background": "light"
     },
     "output_type": "display_data"
    }
   ],
   "source": [
    "plt.step(FPRs0, TPRs0, label=\"The first ROC's curvation\", color = '#00FF00')\n",
    "plt.step(FPRs1, TPRs1, label=\"The sencond ROC's curvation\", color = '#0000FF')\n",
    "plt.step(FPRs2, TPRs2, label=\"The third ROC's curvation\", color = '#FF0000')\n",
    "plt.plot(np.linspace(0, 1, 20), np.linspace(0, 1, 20))\n",
    "plt.xlabel(\"FPR\")\n",
    "plt.ylabel(\"TPR\")\n",
    "plt.xlim(-0.02, 1)\n",
    "plt.ylim(0, 1.05)\n",
    "plt.legend()\n",
    "plt.show()"
   ]
  },
  {
   "cell_type": "markdown",
   "metadata": {},
   "source": [
    "### AUC值"
   ]
  },
  {
   "cell_type": "code",
   "execution_count": 30,
   "metadata": {},
   "outputs": [
    {
     "name": "stdout",
     "output_type": "stream",
     "text": [
      "第一类的AUC值为： 1.0\n"
     ]
    }
   ],
   "source": [
    "# 为曲线与FPR轴的面积\n",
    "auc_area0 = 0\n",
    "for i in range(1, len(TPRs0)):\n",
    "    if FPRs0[i] != FPRs0[i - 1]:\n",
    "        l0 = 0\n",
    "        k0 = i\n",
    "        # 计算横轴长度\n",
    "        while(k0):\n",
    "            if FPRs0[k0] != FPRs0[k0 - 1]:\n",
    "                l0 += FPRs0[k0] - FPRs0[k0 - 1]\n",
    "                k0 -= 1\n",
    "            else:\n",
    "                break\n",
    "        auc_area0 += l0 * TPRs0[i] # 横轴乘纵轴\n",
    "print(\"第一类的AUC值为：\", auc_area0)"
   ]
  },
  {
   "cell_type": "code",
   "execution_count": 31,
   "metadata": {},
   "outputs": [
    {
     "name": "stdout",
     "output_type": "stream",
     "text": [
      "第二类的AUC值为： 1.0\n"
     ]
    }
   ],
   "source": [
    "# 为曲线与FPR轴的面积\n",
    "auc_area1 = 0\n",
    "for i in range(1, len(TPRs1)):\n",
    "    if FPRs1[i] != FPRs1[i - 1]:\n",
    "        l1 = 0\n",
    "        k1 = i\n",
    "        # 计算横轴长度\n",
    "        while(k1):\n",
    "            if FPRs1[k1] != FPRs1[k1 - 1]:\n",
    "                l1 += FPRs1[k1] - FPRs1[k1 - 1]\n",
    "                k1 -= 1\n",
    "            else:\n",
    "                break\n",
    "        auc_area1 += l1 * TPRs1[i] # 横轴乘纵轴\n",
    "print(\"第二类的AUC值为：\", auc_area1)"
   ]
  },
  {
   "cell_type": "code",
   "execution_count": 32,
   "metadata": {},
   "outputs": [
    {
     "name": "stdout",
     "output_type": "stream",
     "text": [
      "第三类的AUC值为： 1.0\n"
     ]
    }
   ],
   "source": [
    "# 为曲线与FPR轴的面积\n",
    "auc_area2 = 0\n",
    "for i in range(1, len(TPRs2)):\n",
    "    if FPRs2[i] != FPRs2[i - 1]:\n",
    "        l2 = 0\n",
    "        k2 = i\n",
    "        # 计算横轴长度\n",
    "        while(k2):\n",
    "            if FPRs2[k2] != FPRs2[k2 - 1]:\n",
    "                l2 += FPRs2[k2] - FPRs2[k2 - 1]\n",
    "                k2 -= 1\n",
    "            else:\n",
    "                break\n",
    "        auc_area2 += l2 * TPRs2[i] # 横轴乘纵轴\n",
    "print(\"第三类的AUC值为：\", auc_area2)"
   ]
  },
  {
   "cell_type": "markdown",
   "metadata": {},
   "source": [
    "## 总结与展望"
   ]
  },
  {
   "cell_type": "markdown",
   "metadata": {},
   "source": [
    "### 总结\n",
    "- 本次是机器学习的第四次实验，在做实验的过程中对朴素贝叶斯分类器更加的了解\n",
    "- 在本次实验中也了解了贝叶斯分类的原理\n",
    "- 在本次实验中也知道了什么是ROC曲线和AUC值，并对其进行实际编程，扩展了自己的知识面\n",
    "- 最后也对机器学习的方法也更加的熟悉"
   ]
  },
  {
   "cell_type": "markdown",
   "metadata": {},
   "source": [
    "### 展望\n",
    "通过第四次实验，发现自己对机器学习有了更近一步的认识，希望自己能在本学期的课程中学到更多，也希望自己未来能有更好的发展✌️"
   ]
  }
 ],
 "metadata": {
  "kernelspec": {
   "display_name": "Python 3 (ipykernel)",
   "language": "python",
   "name": "python3"
  },
  "language_info": {
   "codemirror_mode": {
    "name": "ipython",
    "version": 3
   },
   "file_extension": ".py",
   "mimetype": "text/x-python",
   "name": "python",
   "nbconvert_exporter": "python",
   "pygments_lexer": "ipython3",
   "version": "3.8.13"
  }
 },
 "nbformat": 4,
 "nbformat_minor": 4
}
