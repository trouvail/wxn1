{
 "cells": [
  {
   "cell_type": "markdown",
   "id": "19edd4e8-211a-43cd-8279-240820dbfadb",
   "metadata": {},
   "source": [
    "# 测算面积"
   ]
  },
  {
   "cell_type": "code",
   "execution_count": 1,
   "id": "5b85c257-58b9-4f6e-9833-e0382134ca57",
   "metadata": {},
   "outputs": [
    {
     "name": "stdout",
     "output_type": "stream",
     "text": [
      "公交站点覆盖率： 192.7795%\n"
     ]
    }
   ],
   "source": [
    "import math\n",
    "# 这一行的意思是导入一个python的包，方便之后的计算，不用理解\n",
    "PI = math.pi\n",
    "# 定义PI为圆周率的π，之后的PI都代表π，‘=’的含义是赋值操作，比如a = 1就代表把1赋值给a\n",
    "radius = 500\n",
    "# 覆盖的半径\n",
    "total_area = 286000000\n",
    "# 整体的面积\n",
    "nums = 702\n",
    "# 站牌的个数\n",
    "sums = 0\n",
    "# 最后计算的覆盖总面积，先赋值为0\n",
    "for i in range(1, nums+1):\n",
    "# 意思接下来的句子需要循环nums次，即702次\n",
    "    sums += (PI * (radius ** 2))\n",
    "    # sums的值每一次加上这一个车站能覆盖的面积\n",
    "ratio = sums / total_area\n",
    "# 比率即为总覆盖的面积除以需要覆盖的面积\n",
    "ratio = format(ratio, '.4%')\n",
    "# 定义输出格式，不用管\n",
    "print(f\"公交站点覆盖率：\", ratio)\n",
    "# 输出比率"
   ]
  },
  {
   "cell_type": "code",
   "execution_count": 6,
   "id": "e0889650-8c2f-44fe-adac-03ce09788854",
   "metadata": {},
   "outputs": [
    {
     "name": "stdout",
     "output_type": "stream",
     "text": [
      "270962366\n",
      "270825000\n",
      "公交站点覆盖率： 91.5755%\n"
     ]
    }
   ],
   "source": [
    "# 检验榆林\n",
    "yulin_area = 91400000\n",
    "cover_area = 83700000\n",
    "\n",
    "all_cover = (PI * (radius ** 2)) * 345\n",
    "all_cover_false = (3.14 * (radius ** 2)) * 345\n",
    "\n",
    "print(int(all_cover))\n",
    "print(int(all_cover_false))\n",
    "\n",
    "ratio_yulin = cover_area / yulin_area\n",
    "ratio_yulin = format(ratio_yulin, '.4%')\n",
    "print(f\"公交站点覆盖率：\", ratio_yulin)"
   ]
  },
  {
   "cell_type": "code",
   "execution_count": null,
   "id": "c5c8ea2f-38f1-4f5a-93d8-cd3f16ca8482",
   "metadata": {},
   "outputs": [],
   "source": []
  }
 ],
 "metadata": {
  "kernelspec": {
   "display_name": "Python 3 (ipykernel)",
   "language": "python",
   "name": "python3"
  },
  "language_info": {
   "codemirror_mode": {
    "name": "ipython",
    "version": 3
   },
   "file_extension": ".py",
   "mimetype": "text/x-python",
   "name": "python",
   "nbconvert_exporter": "python",
   "pygments_lexer": "ipython3",
   "version": "3.8.13"
  }
 },
 "nbformat": 4,
 "nbformat_minor": 5
}
