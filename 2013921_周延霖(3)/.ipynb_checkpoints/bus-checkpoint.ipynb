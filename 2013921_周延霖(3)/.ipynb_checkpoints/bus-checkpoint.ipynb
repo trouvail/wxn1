{
 "cells": [
  {
   "cell_type": "markdown",
   "id": "19edd4e8-211a-43cd-8279-240820dbfadb",
   "metadata": {},
   "source": [
    "# 测算面积"
   ]
  },
  {
   "cell_type": "code",
   "execution_count": null,
   "id": "5b85c257-58b9-4f6e-9833-e0382134ca57",
   "metadata": {},
   "outputs": [],
   "source": []
  }
 ],
 "metadata": {
  "kernelspec": {
   "display_name": "Python 3 (ipykernel)",
   "language": "python",
   "name": "python3"
  },
  "language_info": {
   "codemirror_mode": {
    "name": "ipython",
    "version": 3
   },
   "file_extension": ".py",
   "mimetype": "text/x-python",
   "name": "python",
   "nbconvert_exporter": "python",
   "pygments_lexer": "ipython3",
   "version": "3.8.13"
  }
 },
 "nbformat": 4,
 "nbformat_minor": 5
}
